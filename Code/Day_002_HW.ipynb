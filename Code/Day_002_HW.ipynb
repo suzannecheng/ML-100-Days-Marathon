{
 "cells": [
  {
   "cell_type": "markdown",
   "metadata": {},
   "source": [
    "## [作業目標]\n",
    "了解機器學習適合應用的領域與範疇。"
   ]
  },
  {
   "cell_type": "markdown",
   "metadata": {},
   "source": [
    "## [作業重點]\n",
    "透過瞭解機器學習的運作方式，找出非常適用機器學習應用的領域及其原因"
   ]
  },
  {
   "cell_type": "markdown",
   "metadata": {},
   "source": [
    "## 作業\n",
    "請找出一個你認為機器學習可以發光發熱的領域並闡述原因? "
   ]
  },
  {
   "cell_type": "markdown",
   "metadata": {},
   "source": [
    "- 適用領域：金融業\n",
    "- 原因：傳統金融業仰賴人力進行作業程序、在行銷獲客僅能仰賴經驗法則\n",
    "- 機器學習如何改善：\n",
    "    * 將作業單位大量人工介入的程序利用機器學習進行簡化 eg.AML：透過機器學習判別案件是否有洗錢風險，初步篩掉非洗錢行為之案件，降低人員以往需逐件審核之作業時間\n",
    "    * 提升客戶體驗 eg.利用機器學習建議信評模型，篩選預測其違約機率低之客戶優先做為白名單，快速審核申請案件"
   ]
  }
 ],
 "metadata": {
  "kernelspec": {
   "display_name": "Python 3",
   "language": "python",
   "name": "python3"
  },
  "language_info": {
   "codemirror_mode": {
    "name": "ipython",
    "version": 3
   },
   "file_extension": ".py",
   "mimetype": "text/x-python",
   "name": "python",
   "nbconvert_exporter": "python",
   "pygments_lexer": "ipython3",
   "version": "3.7.4"
  }
 },
 "nbformat": 4,
 "nbformat_minor": 2
}
